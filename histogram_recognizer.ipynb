{
 "cells": [
  {
   "cell_type": "code",
   "execution_count": 1,
   "id": "9cd5622a-3a96-44b1-aa11-094298ea7b4a",
   "metadata": {},
   "outputs": [],
   "source": [
    "import matplotlib.pyplot as plt\n",
    "import numpy as np\n",
    "import os\n",
    "import PIL\n",
    "import tensorflow as tf\n",
    "import pandas as pd\n",
    "from tensorflow import keras\n",
    "from tensorflow.keras import layers\n",
    "from tensorflow.keras.models import Sequential"
   ]
  },
  {
   "cell_type": "code",
   "execution_count": 2,
   "id": "64875d25-4a73-4bff-aac0-211ab379e1ad",
   "metadata": {},
   "outputs": [],
   "source": [
    "data = pd.read_csv(\"data.csv\",header=None)"
   ]
  },
  {
   "cell_type": "code",
   "execution_count": 3,
   "id": "01e18c0b-6f7a-41b9-877d-dabebfdaed10",
   "metadata": {},
   "outputs": [],
   "source": [
    "data = data.sample(frac=1)\n",
    "input_dim = len(data.columns) - 1"
   ]
  },
  {
   "cell_type": "code",
   "execution_count": 4,
   "id": "5924bbc6-f793-4f18-93ad-8b785348d211",
   "metadata": {},
   "outputs": [],
   "source": [
    "data = data.astype(\"float32\")"
   ]
  },
  {
   "cell_type": "code",
   "execution_count": 5,
   "id": "7af7d99c-e80b-4952-a5e9-c0f736b95d91",
   "metadata": {},
   "outputs": [],
   "source": [
    "data = data.to_numpy()"
   ]
  },
  {
   "cell_type": "code",
   "execution_count": 6,
   "id": "7a8c98d3-ecab-4ac6-869e-59c6f41c8f1f",
   "metadata": {},
   "outputs": [
    {
     "data": {
      "text/plain": [
       "(4169, 257)"
      ]
     },
     "execution_count": 6,
     "metadata": {},
     "output_type": "execute_result"
    }
   ],
   "source": [
    "data.shape"
   ]
  },
  {
   "cell_type": "code",
   "execution_count": 7,
   "id": "b6e06285-1cc8-4db1-84fb-a89b5c821035",
   "metadata": {},
   "outputs": [],
   "source": [
    "training = data[0:3000]\n",
    "validating = data[3000:3500]\n",
    "testing = data[3500:]"
   ]
  },
  {
   "cell_type": "code",
   "execution_count": 8,
   "id": "9ca10969-8f24-4a3a-85e7-e5eca1e735a4",
   "metadata": {},
   "outputs": [
    {
     "name": "stdout",
     "output_type": "stream",
     "text": [
      "(3000, 257)\n",
      "(500, 257)\n",
      "(669, 257)\n"
     ]
    }
   ],
   "source": [
    "print(training.shape)\n",
    "print(validating.shape)\n",
    "print(testing.shape)"
   ]
  },
  {
   "cell_type": "code",
   "execution_count": 9,
   "id": "cea9ed0e-a099-4ac9-ac88-158209cc926b",
   "metadata": {},
   "outputs": [],
   "source": [
    "training_features = training[:,0:-1]\n",
    "training_labels = training[:,-1]"
   ]
  },
  {
   "cell_type": "code",
   "execution_count": 10,
   "id": "f4c112b0-2c61-4950-b734-023834613ed9",
   "metadata": {},
   "outputs": [
    {
     "name": "stdout",
     "output_type": "stream",
     "text": [
      "(3000, 256)\n",
      "(3000,)\n"
     ]
    }
   ],
   "source": [
    "print(training_features.shape)\n",
    "print(training_labels.shape)"
   ]
  },
  {
   "cell_type": "code",
   "execution_count": 11,
   "id": "9f0c4872-8de9-43e0-85a7-db76feb5aa99",
   "metadata": {},
   "outputs": [],
   "source": [
    "testing_features = testing[:,0:-1]\n",
    "testing_labels = testing[:,-1]"
   ]
  },
  {
   "cell_type": "code",
   "execution_count": 12,
   "id": "59676149-853b-4c1c-91bb-20937c0d84c9",
   "metadata": {},
   "outputs": [
    {
     "name": "stdout",
     "output_type": "stream",
     "text": [
      "(669, 256)\n",
      "(669,)\n"
     ]
    }
   ],
   "source": [
    "print(testing_features.shape)\n",
    "print(testing_labels.shape)"
   ]
  },
  {
   "cell_type": "code",
   "execution_count": 13,
   "id": "587c03d1-20fe-4944-9baf-76e45ef2d208",
   "metadata": {},
   "outputs": [],
   "source": [
    "validating_features = validating[:,0:-1]\n",
    "validating_labels = validating[:,-1]"
   ]
  },
  {
   "cell_type": "code",
   "execution_count": 14,
   "id": "a1ff4cd7-784b-4e2f-bd86-83348ee379c6",
   "metadata": {},
   "outputs": [
    {
     "name": "stdout",
     "output_type": "stream",
     "text": [
      "(500, 256)\n",
      "(500,)\n"
     ]
    }
   ],
   "source": [
    "print(validating_features.shape)\n",
    "print(validating_labels.shape)"
   ]
  },
  {
   "cell_type": "code",
   "execution_count": 49,
   "id": "456fdc92-d240-42da-b66a-1638a474fae5",
   "metadata": {},
   "outputs": [],
   "source": [
    "input_dim=256\n",
    "model = Sequential([\n",
    "# layers.Input(shape=(256,)),\n",
    "layers.Dense(32, input_dim = input_dim , activation = 'relu'),\n",
    "layers.Dense(32, input_dim = input_dim , activation = 'relu'),\n",
    "layers.Dense(32, input_dim = input_dim , activation = 'relu'),\n",
    "layers.Dense(64, input_dim = input_dim , activation = 'relu'),\n",
    "layers.Dense(64, input_dim = input_dim , activation = 'relu'),\n",
    "layers.Dense(64, input_dim = input_dim , activation = 'relu'),\n",
    "layers.Dense(64, input_dim = input_dim , activation = 'relu'),\n",
    "layers.Dense(64, input_dim = input_dim , activation = 'relu'),\n",
    "layers.Dense(64, input_dim = input_dim , activation = 'relu'),\n",
    "layers.Dense(64, input_dim = input_dim , activation = 'relu'),\n",
    "layers.Dense(128, input_dim = input_dim , activation = 'relu'),\n",
    "layers.Dense(128, input_dim = input_dim , activation = 'relu'),\n",
    "layers.Dense(128, input_dim = input_dim , activation = 'relu'),\n",
    "layers.Dense(128, input_dim = input_dim , activation = 'relu'),\n",
    "layers.Dense(5, activation='softmax')\n",
    "    \n",
    "])"
   ]
  },
  {
   "cell_type": "code",
   "execution_count": 50,
   "id": "173c8078-fa4b-4dc4-899f-c0ee3bc482d2",
   "metadata": {},
   "outputs": [],
   "source": [
    "model.compile(loss=tf.keras.losses.SparseCategoricalCrossentropy(),\n",
    "              optimizer='adam',\n",
    "              metrics=['accuracy'])"
   ]
  },
  {
   "cell_type": "code",
   "execution_count": 51,
   "id": "ce279373-92a0-41ed-9182-e8cc29a4632e",
   "metadata": {},
   "outputs": [
    {
     "name": "stdout",
     "output_type": "stream",
     "text": [
      "Epoch 1/20\n",
      "94/94 [==============================] - 2s 9ms/step - loss: 1.2841 - accuracy: 0.5540 - val_loss: 0.7206 - val_accuracy: 0.6820\n",
      "Epoch 2/20\n",
      "94/94 [==============================] - 1s 6ms/step - loss: 0.6509 - accuracy: 0.7403 - val_loss: 0.4787 - val_accuracy: 0.8200\n",
      "Epoch 3/20\n",
      "94/94 [==============================] - 1s 6ms/step - loss: 0.5507 - accuracy: 0.7980 - val_loss: 0.5154 - val_accuracy: 0.8100\n",
      "Epoch 4/20\n",
      "94/94 [==============================] - 1s 6ms/step - loss: 0.4540 - accuracy: 0.8293 - val_loss: 0.4311 - val_accuracy: 0.8100\n",
      "Epoch 5/20\n",
      "94/94 [==============================] - 1s 6ms/step - loss: 0.4244 - accuracy: 0.8307 - val_loss: 0.4130 - val_accuracy: 0.8200\n",
      "Epoch 6/20\n",
      "94/94 [==============================] - 1s 6ms/step - loss: 0.3459 - accuracy: 0.8640 - val_loss: 0.2897 - val_accuracy: 0.8720\n",
      "Epoch 7/20\n",
      "94/94 [==============================] - 1s 6ms/step - loss: 0.3509 - accuracy: 0.8697 - val_loss: 0.3093 - val_accuracy: 0.8820\n",
      "Epoch 8/20\n",
      "94/94 [==============================] - 1s 6ms/step - loss: 0.3104 - accuracy: 0.8847 - val_loss: 0.3901 - val_accuracy: 0.8500\n",
      "Epoch 9/20\n",
      "94/94 [==============================] - 1s 6ms/step - loss: 0.3315 - accuracy: 0.8770 - val_loss: 0.2618 - val_accuracy: 0.9140\n",
      "Epoch 10/20\n",
      "94/94 [==============================] - 1s 6ms/step - loss: 0.3161 - accuracy: 0.8827 - val_loss: 0.2916 - val_accuracy: 0.8860\n",
      "Epoch 11/20\n",
      "94/94 [==============================] - 1s 6ms/step - loss: 0.3191 - accuracy: 0.8807 - val_loss: 0.3059 - val_accuracy: 0.9000\n",
      "Epoch 12/20\n",
      "94/94 [==============================] - 1s 6ms/step - loss: 0.2966 - accuracy: 0.8870 - val_loss: 0.2887 - val_accuracy: 0.8900\n",
      "Epoch 13/20\n",
      "94/94 [==============================] - 1s 6ms/step - loss: 0.2719 - accuracy: 0.8990 - val_loss: 0.2845 - val_accuracy: 0.8860\n",
      "Epoch 14/20\n",
      "94/94 [==============================] - 1s 6ms/step - loss: 0.3060 - accuracy: 0.8860 - val_loss: 0.2391 - val_accuracy: 0.9000\n",
      "Epoch 15/20\n",
      "94/94 [==============================] - 1s 6ms/step - loss: 0.3115 - accuracy: 0.8897 - val_loss: 0.3444 - val_accuracy: 0.8680\n",
      "Epoch 16/20\n",
      "94/94 [==============================] - 1s 6ms/step - loss: 0.2840 - accuracy: 0.8927 - val_loss: 0.2266 - val_accuracy: 0.9260\n",
      "Epoch 17/20\n",
      "94/94 [==============================] - 1s 6ms/step - loss: 0.2597 - accuracy: 0.9033 - val_loss: 0.2677 - val_accuracy: 0.9060\n",
      "Epoch 18/20\n",
      "94/94 [==============================] - 1s 6ms/step - loss: 0.2670 - accuracy: 0.8957 - val_loss: 0.2807 - val_accuracy: 0.8900\n",
      "Epoch 19/20\n",
      "94/94 [==============================] - 1s 6ms/step - loss: 0.2264 - accuracy: 0.9137 - val_loss: 0.2145 - val_accuracy: 0.9300\n",
      "Epoch 20/20\n",
      "94/94 [==============================] - 1s 6ms/step - loss: 0.2478 - accuracy: 0.9150 - val_loss: 0.1912 - val_accuracy: 0.9380\n"
     ]
    }
   ],
   "source": [
    "epochs = 20\n",
    "history = model.fit(training_features,training_labels,\n",
    "                    epochs=epochs,\n",
    "                    validation_data=(validating_features,validating_labels))"
   ]
  },
  {
   "cell_type": "code",
   "execution_count": 52,
   "id": "639cec95-dd25-4e53-89b3-4689ed7aef9b",
   "metadata": {},
   "outputs": [
    {
     "data": {
      "image/png": "[encoded data removed]",
      "text/plain": [
       "<Figure size 576x576 with 2 Axes>"
      ]
     },
     "metadata": {
      "needs_background": "light"
     },
     "output_type": "display_data"
    }
   ],
   "source": [
    "acc = history.history['accuracy']\n",
    "val_acc = history.history['val_accuracy']\n",
    "\n",
    "loss = history.history['loss']\n",
    "val_loss = history.history['val_loss']\n",
    "\n",
    "epochs_range = range(epochs)\n",
    "\n",
    "plt.figure(figsize=(8, 8))\n",
    "plt.subplot(1, 2, 1)\n",
    "plt.plot(epochs_range, acc, label='Training Accuracy')\n",
    "plt.plot(epochs_range, val_acc, label='Validation Accuracy')\n",
    "plt.legend(loc='lower right')\n",
    "plt.title('Training and Validation Accuracy')\n",
    "\n",
    "plt.subplot(1, 2, 2)\n",
    "plt.plot(epochs_range, loss, label='Training Loss')\n",
    "plt.plot(epochs_range, val_loss, label='Validation Loss')\n",
    "plt.legend(loc='upper right')\n",
    "plt.title('Training and Validation Loss')\n",
    "plt.show()"
   ]
  },
  {
   "cell_type": "code",
   "execution_count": 60,
   "id": "998ebd8c-e5c5-4b5f-b891-2c5f0c43d49d",
   "metadata": {},
   "outputs": [
    {
     "name": "stdout",
     "output_type": "stream",
     "text": [
      "21/21 [==============================] - 0s 3ms/step - loss: 0.2328 - accuracy: 0.9223\n",
      "test loss, test acc: [0.23278263211250305, 0.9222720265388489]\n",
      "1/1 [==============================] - 0s 19ms/step\n",
      "\n",
      "Rzeczywiste wartości:  [4 4 0 1 2 1 4 2 3 4]\n",
      "Przewidziane wartości: [1 4 0 1 2 1 4 2 3 4]\n"
     ]
    }
   ],
   "source": [
    "results = model.evaluate(testing_features, testing_labels)\n",
    "print(\"test loss, test acc:\", results)\n",
    "np.set_printoptions(suppress=True)\n",
    "\n",
    "# muszlowy - 0\n",
    "# gothic - 1\n",
    "# york - 2\n",
    "# light - 3\n",
    "# barwy_jesieni - 4\n",
    "\n",
    "predictions = model.predict(testing_features[10:20])\n",
    "\n",
    "print(\"\\nRzeczywiste wartości: \",testing_labels[10:20].astype(\"int32\"))\n",
    "print(\"Przewidziane wartości:\",np.argmax(predictions, axis=1))"
   ]
  },
  {
   "cell_type": "code",
   "execution_count": 62,
   "id": "a821f21b-d755-45da-bd10-06cc0ddf3657",
   "metadata": {},
   "outputs": [],
   "source": [
    "cp_callback = tf.keras.callbacks.ModelCheckpoint(filepath=\"cp.ckpt\",\n",
    "                                                 save_weights_only=True,\n",
    "                                                 verbose=1)\n",
    "checkpoint_path = \"cp.ckpt\""
   ]
  },
  {
   "cell_type": "code",
   "execution_count": 63,
   "id": "2104bcf6-fc2a-4899-b675-8c64fb840409",
   "metadata": {},
   "outputs": [],
   "source": [
    "model.save_weights(checkpoint_path.format(epoch=20))"
   ]
  },
  {
   "cell_type": "code",
   "execution_count": 64,
   "id": "86dbf301-ec67-4add-8caa-bd7013851c5b",
   "metadata": {},
   "outputs": [
    {
     "name": "stdout",
     "output_type": "stream",
     "text": [
      "INFO:tensorflow:Assets written to: bruk_deep_learning/assets\n"
     ]
    }
   ],
   "source": [
    "model.save('bruk_deep_learning')"
   ]
  },
  {
   "cell_type": "code",
   "execution_count": null,
   "id": "6936c77b-c6ea-4165-9445-9fb77342f19f",
   "metadata": {},
   "outputs": [],
   "source": []
  }
 ],
 "metadata": {
  "kernelspec": {
   "display_name": "Python 3 (ipykernel)",
   "language": "python",
   "name": "python3"
  },
  "language_info": {
   "codemirror_mode": {
    "name": "ipython",
    "version": 3
   },
   "file_extension": ".py",
   "mimetype": "text/x-python",
   "name": "python",
   "nbconvert_exporter": "python",
   "pygments_lexer": "ipython3",
   "version": "3.8.10"
  }
 },
 "nbformat": 4,
 "nbformat_minor": 5
}
