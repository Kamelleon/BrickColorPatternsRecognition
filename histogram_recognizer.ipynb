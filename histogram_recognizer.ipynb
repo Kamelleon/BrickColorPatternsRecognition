{
 "cells": [
  {
   "cell_type": "code",
   "execution_count": 1,
   "id": "9cd5622a-3a96-44b1-aa11-094298ea7b4a",
   "metadata": {},
   "outputs": [],
   "source": [
    "import matplotlib.pyplot as plt\n",
    "import numpy as np\n",
    "import os\n",
    "import PIL\n",
    "import tensorflow as tf\n",
    "import pandas as pd\n",
    "from tensorflow import keras\n",
    "from tensorflow.keras import layers\n",
    "from tensorflow.keras.models import Sequential"
   ]
  },
  {
   "cell_type": "code",
   "execution_count": 2,
   "id": "64875d25-4a73-4bff-aac0-211ab379e1ad",
   "metadata": {},
   "outputs": [],
   "source": [
    "data = pd.read_csv(\"data.csv\",header=None)"
   ]
  },
  {
   "cell_type": "code",
   "execution_count": 3,
   "id": "01e18c0b-6f7a-41b9-877d-dabebfdaed10",
   "metadata": {},
   "outputs": [],
   "source": [
    "data = data.sample(frac=1)\n",
    "input_dim = len(data.columns) - 1"
   ]
  },
  {
   "cell_type": "code",
   "execution_count": 4,
   "id": "5924bbc6-f793-4f18-93ad-8b785348d211",
   "metadata": {},
   "outputs": [],
   "source": [
    "data = data.astype(\"float32\")"
   ]
  },
  {
   "cell_type": "code",
   "execution_count": 5,
   "id": "7af7d99c-e80b-4952-a5e9-c0f736b95d91",
   "metadata": {},
   "outputs": [],
   "source": [
    "data = data.to_numpy()"
   ]
  },
  {
   "cell_type": "code",
   "execution_count": 6,
   "id": "7a8c98d3-ecab-4ac6-869e-59c6f41c8f1f",
   "metadata": {},
   "outputs": [
    {
     "data": {
      "text/plain": [
       "(4169, 257)"
      ]
     },
     "execution_count": 6,
     "metadata": {},
     "output_type": "execute_result"
    }
   ],
   "source": [
    "data.shape"
   ]
  },
  {
   "cell_type": "code",
   "execution_count": 42,
   "id": "b6e06285-1cc8-4db1-84fb-a89b5c821035",
   "metadata": {},
   "outputs": [],
   "source": [
    "training = data[0:3200]\n",
    "validating = data[3200:3500]\n",
    "testing = data[3500:]"
   ]
  },
  {
   "cell_type": "code",
   "execution_count": 43,
   "id": "9ca10969-8f24-4a3a-85e7-e5eca1e735a4",
   "metadata": {},
   "outputs": [
    {
     "name": "stdout",
     "output_type": "stream",
     "text": [
      "(3200, 257)\n",
      "(300, 257)\n",
      "(669, 257)\n"
     ]
    }
   ],
   "source": [
    "print(training.shape)\n",
    "print(validating.shape)\n",
    "print(testing.shape)"
   ]
  },
  {
   "cell_type": "code",
   "execution_count": 44,
   "id": "cea9ed0e-a099-4ac9-ac88-158209cc926b",
   "metadata": {},
   "outputs": [],
   "source": [
    "training_features = training[:,0:-1]\n",
    "training_labels = training[:,-1]"
   ]
  },
  {
   "cell_type": "code",
   "execution_count": 45,
   "id": "f4c112b0-2c61-4950-b734-023834613ed9",
   "metadata": {},
   "outputs": [
    {
     "name": "stdout",
     "output_type": "stream",
     "text": [
      "(3200, 256)\n",
      "(3200,)\n"
     ]
    }
   ],
   "source": [
    "print(training_features.shape)\n",
    "print(training_labels.shape)"
   ]
  },
  {
   "cell_type": "code",
   "execution_count": 46,
   "id": "9f0c4872-8de9-43e0-85a7-db76feb5aa99",
   "metadata": {},
   "outputs": [],
   "source": [
    "testing_features = testing[:,0:-1]\n",
    "testing_labels = testing[:,-1]"
   ]
  },
  {
   "cell_type": "code",
   "execution_count": 47,
   "id": "59676149-853b-4c1c-91bb-20937c0d84c9",
   "metadata": {},
   "outputs": [
    {
     "name": "stdout",
     "output_type": "stream",
     "text": [
      "(669, 256)\n",
      "(669,)\n"
     ]
    }
   ],
   "source": [
    "print(testing_features.shape)\n",
    "print(testing_labels.shape)"
   ]
  },
  {
   "cell_type": "code",
   "execution_count": 48,
   "id": "587c03d1-20fe-4944-9baf-76e45ef2d208",
   "metadata": {},
   "outputs": [],
   "source": [
    "validating_features = validating[:,0:-1]\n",
    "validating_labels = validating[:,-1]"
   ]
  },
  {
   "cell_type": "code",
   "execution_count": 49,
   "id": "a1ff4cd7-784b-4e2f-bd86-83348ee379c6",
   "metadata": {},
   "outputs": [
    {
     "name": "stdout",
     "output_type": "stream",
     "text": [
      "(300, 256)\n",
      "(300,)\n"
     ]
    }
   ],
   "source": [
    "print(validating_features.shape)\n",
    "print(validating_labels.shape)"
   ]
  },
  {
   "cell_type": "code",
   "execution_count": 126,
   "id": "456fdc92-d240-42da-b66a-1638a474fae5",
   "metadata": {},
   "outputs": [],
   "source": [
    "input_dim=256\n",
    "model = Sequential([\n",
    "# layers.Input(shape=(256,)),\n",
    "layers.Dense(32, input_dim = input_dim , activation = 'relu'),\n",
    "layers.Dense(32, input_dim = input_dim , activation = 'relu'),\n",
    "layers.Dense(32, input_dim = input_dim , activation = 'relu'),\n",
    "layers.Dense(32, input_dim = input_dim , activation = 'relu'),\n",
    "layers.Dense(64, input_dim = input_dim , activation = 'relu'),\n",
    "layers.Dense(64, input_dim = input_dim , activation = 'relu'),\n",
    "layers.Dense(64, input_dim = input_dim , activation = 'relu'),\n",
    "layers.Dense(64, input_dim = input_dim , activation = 'relu'),\n",
    "layers.Dense(64, input_dim = input_dim , activation = 'relu'),\n",
    "layers.Dense(64, input_dim = input_dim , activation = 'relu'),\n",
    "layers.Dense(64, input_dim = input_dim , activation = 'relu'),\n",
    "layers.Dense(64, input_dim = input_dim , activation = 'relu'),\n",
    "layers.Dense(64, input_dim = input_dim , activation = 'relu'),\n",
    "layers.Dense(64, input_dim = input_dim , activation = 'relu'),\n",
    "layers.Dense(64, input_dim = input_dim , activation = 'relu'),\n",
    "layers.Dense(128, input_dim = input_dim , activation = 'relu'),\n",
    "layers.Dense(128, input_dim = input_dim , activation = 'relu'),\n",
    "layers.Dense(128, input_dim = input_dim , activation = 'relu'),\n",
    "layers.Dense(512, input_dim = input_dim , activation = 'relu'),\n",
    "layers.Dense(5, activation='softmax')\n",
    "    \n",
    "])"
   ]
  },
  {
   "cell_type": "code",
   "execution_count": 127,
   "id": "173c8078-fa4b-4dc4-899f-c0ee3bc482d2",
   "metadata": {},
   "outputs": [],
   "source": [
    "checkpoint_filepath = '/tmp/checkpoint'\n",
    "model_checkpoint_callback = tf.keras.callbacks.ModelCheckpoint(\n",
    "    filepath=checkpoint_filepath,\n",
    "    save_weights_only=True,\n",
    "    monitor='val_accuracy',\n",
    "    mode='max',\n",
    "    save_best_only=True)\n",
    "model.compile(loss=tf.keras.losses.SparseCategoricalCrossentropy(),\n",
    "              optimizer='adam',\n",
    "              metrics=['accuracy'])"
   ]
  },
  {
   "cell_type": "code",
   "execution_count": 128,
   "id": "ce279373-92a0-41ed-9182-e8cc29a4632e",
   "metadata": {},
   "outputs": [
    {
     "name": "stdout",
     "output_type": "stream",
     "text": [
      "Epoch 1/50\n",
      "100/100 [==============================] - 2s 10ms/step - loss: 1.1310 - accuracy: 0.5288 - val_loss: 0.8174 - val_accuracy: 0.6633\n",
      "Epoch 2/50\n",
      "100/100 [==============================] - 1s 8ms/step - loss: 0.7589 - accuracy: 0.7128 - val_loss: 0.6706 - val_accuracy: 0.7433\n",
      "Epoch 3/50\n",
      "100/100 [==============================] - 1s 8ms/step - loss: 0.5699 - accuracy: 0.7722 - val_loss: 0.5381 - val_accuracy: 0.7967\n",
      "Epoch 4/50\n",
      "100/100 [==============================] - 1s 8ms/step - loss: 0.5652 - accuracy: 0.7928 - val_loss: 0.4453 - val_accuracy: 0.8333\n",
      "Epoch 5/50\n",
      "100/100 [==============================] - 1s 7ms/step - loss: 0.5242 - accuracy: 0.8069 - val_loss: 0.4314 - val_accuracy: 0.8100\n",
      "Epoch 6/50\n",
      "100/100 [==============================] - 1s 8ms/step - loss: 0.4774 - accuracy: 0.8156 - val_loss: 0.4848 - val_accuracy: 0.8633\n",
      "Epoch 7/50\n",
      "100/100 [==============================] - 1s 7ms/step - loss: 0.3800 - accuracy: 0.8519 - val_loss: 0.3198 - val_accuracy: 0.8633\n",
      "Epoch 8/50\n",
      "100/100 [==============================] - 1s 7ms/step - loss: 0.4667 - accuracy: 0.8275 - val_loss: 0.5122 - val_accuracy: 0.8567\n",
      "Epoch 9/50\n",
      "100/100 [==============================] - 1s 7ms/step - loss: 0.4506 - accuracy: 0.8469 - val_loss: 0.4546 - val_accuracy: 0.8467\n",
      "Epoch 10/50\n",
      "100/100 [==============================] - 1s 8ms/step - loss: 0.3165 - accuracy: 0.8797 - val_loss: 0.2342 - val_accuracy: 0.9167\n",
      "Epoch 11/50\n",
      "100/100 [==============================] - 1s 7ms/step - loss: 0.3119 - accuracy: 0.8816 - val_loss: 0.4518 - val_accuracy: 0.8333\n",
      "Epoch 12/50\n",
      "100/100 [==============================] - 1s 7ms/step - loss: 0.3364 - accuracy: 0.8841 - val_loss: 0.3085 - val_accuracy: 0.8900\n",
      "Epoch 13/50\n",
      "100/100 [==============================] - 1s 7ms/step - loss: 0.3313 - accuracy: 0.8775 - val_loss: 0.3318 - val_accuracy: 0.8833\n",
      "Epoch 14/50\n",
      "100/100 [==============================] - 1s 7ms/step - loss: 0.2817 - accuracy: 0.8941 - val_loss: 0.3296 - val_accuracy: 0.8767\n",
      "Epoch 15/50\n",
      "100/100 [==============================] - 1s 7ms/step - loss: 0.3031 - accuracy: 0.8888 - val_loss: 0.4689 - val_accuracy: 0.8467\n",
      "Epoch 16/50\n",
      "100/100 [==============================] - 1s 7ms/step - loss: 0.2863 - accuracy: 0.8947 - val_loss: 0.2740 - val_accuracy: 0.9033\n",
      "Epoch 17/50\n",
      "100/100 [==============================] - 1s 8ms/step - loss: 0.2466 - accuracy: 0.9084 - val_loss: 0.2272 - val_accuracy: 0.9233\n",
      "Epoch 18/50\n",
      "100/100 [==============================] - 1s 7ms/step - loss: 0.2579 - accuracy: 0.9056 - val_loss: 0.2440 - val_accuracy: 0.9067\n",
      "Epoch 19/50\n",
      "100/100 [==============================] - 1s 7ms/step - loss: 0.3034 - accuracy: 0.8881 - val_loss: 0.2879 - val_accuracy: 0.8867\n",
      "Epoch 20/50\n",
      "100/100 [==============================] - 1s 7ms/step - loss: 0.3211 - accuracy: 0.8903 - val_loss: 0.3854 - val_accuracy: 0.9133\n",
      "Epoch 21/50\n",
      "100/100 [==============================] - 1s 7ms/step - loss: 0.2377 - accuracy: 0.9181 - val_loss: 0.2132 - val_accuracy: 0.9133\n",
      "Epoch 22/50\n",
      "100/100 [==============================] - 1s 7ms/step - loss: 0.3043 - accuracy: 0.8847 - val_loss: 0.2748 - val_accuracy: 0.9167\n",
      "Epoch 23/50\n",
      "100/100 [==============================] - 1s 7ms/step - loss: 0.2571 - accuracy: 0.9028 - val_loss: 0.2991 - val_accuracy: 0.8900\n",
      "Epoch 24/50\n",
      "100/100 [==============================] - 1s 7ms/step - loss: 0.2035 - accuracy: 0.9234 - val_loss: 0.2110 - val_accuracy: 0.9267\n",
      "Epoch 25/50\n",
      "100/100 [==============================] - 1s 7ms/step - loss: 0.2213 - accuracy: 0.9281 - val_loss: 0.3183 - val_accuracy: 0.8767\n",
      "Epoch 26/50\n",
      "100/100 [==============================] - 1s 7ms/step - loss: 0.2607 - accuracy: 0.9116 - val_loss: 0.2518 - val_accuracy: 0.8967\n",
      "Epoch 27/50\n",
      "100/100 [==============================] - 1s 7ms/step - loss: 0.2605 - accuracy: 0.9028 - val_loss: 0.3154 - val_accuracy: 0.8800\n",
      "Epoch 28/50\n",
      "100/100 [==============================] - 1s 7ms/step - loss: 0.2364 - accuracy: 0.9209 - val_loss: 0.3635 - val_accuracy: 0.9200\n",
      "Epoch 29/50\n",
      "100/100 [==============================] - 1s 7ms/step - loss: 0.1944 - accuracy: 0.9294 - val_loss: 0.1827 - val_accuracy: 0.9267\n",
      "Epoch 30/50\n",
      "100/100 [==============================] - 1s 7ms/step - loss: 0.2041 - accuracy: 0.9266 - val_loss: 0.2159 - val_accuracy: 0.9167\n",
      "Epoch 31/50\n",
      "100/100 [==============================] - 1s 7ms/step - loss: 0.1806 - accuracy: 0.9375 - val_loss: 0.2331 - val_accuracy: 0.9200\n",
      "Epoch 32/50\n",
      "100/100 [==============================] - 1s 7ms/step - loss: 0.2426 - accuracy: 0.9131 - val_loss: 0.2702 - val_accuracy: 0.9133\n",
      "Epoch 33/50\n",
      "100/100 [==============================] - 1s 7ms/step - loss: 0.2855 - accuracy: 0.8981 - val_loss: 0.2979 - val_accuracy: 0.8733\n",
      "Epoch 34/50\n",
      "100/100 [==============================] - 1s 7ms/step - loss: 0.1950 - accuracy: 0.9350 - val_loss: 0.1809 - val_accuracy: 0.9433\n",
      "Epoch 35/50\n",
      "100/100 [==============================] - 1s 7ms/step - loss: 0.1713 - accuracy: 0.9344 - val_loss: 0.1913 - val_accuracy: 0.9300\n",
      "Epoch 36/50\n",
      "100/100 [==============================] - 1s 7ms/step - loss: 0.1703 - accuracy: 0.9362 - val_loss: 0.2934 - val_accuracy: 0.9000\n",
      "Epoch 37/50\n",
      "100/100 [==============================] - 1s 7ms/step - loss: 0.2084 - accuracy: 0.9234 - val_loss: 0.2328 - val_accuracy: 0.9267\n",
      "Epoch 38/50\n",
      "100/100 [==============================] - 1s 7ms/step - loss: 0.2236 - accuracy: 0.9206 - val_loss: 0.2891 - val_accuracy: 0.9133\n",
      "Epoch 39/50\n",
      "100/100 [==============================] - 1s 7ms/step - loss: 0.2659 - accuracy: 0.9053 - val_loss: 0.2404 - val_accuracy: 0.9000\n",
      "Epoch 40/50\n",
      "100/100 [==============================] - 1s 7ms/step - loss: 0.2694 - accuracy: 0.9103 - val_loss: 0.3107 - val_accuracy: 0.8667\n",
      "Epoch 41/50\n",
      "100/100 [==============================] - 1s 7ms/step - loss: 0.2760 - accuracy: 0.9034 - val_loss: 0.3382 - val_accuracy: 0.9000\n",
      "Epoch 42/50\n",
      "100/100 [==============================] - 1s 7ms/step - loss: 0.2271 - accuracy: 0.9200 - val_loss: 0.2548 - val_accuracy: 0.9033\n",
      "Epoch 43/50\n",
      "100/100 [==============================] - 1s 7ms/step - loss: 0.2974 - accuracy: 0.9091 - val_loss: 0.4401 - val_accuracy: 0.8500\n",
      "Epoch 44/50\n",
      "100/100 [==============================] - 1s 7ms/step - loss: 0.3290 - accuracy: 0.8900 - val_loss: 0.2759 - val_accuracy: 0.8833\n",
      "Epoch 45/50\n",
      "100/100 [==============================] - 1s 7ms/step - loss: 0.2288 - accuracy: 0.9134 - val_loss: 0.1705 - val_accuracy: 0.9200\n",
      "Epoch 46/50\n",
      "100/100 [==============================] - 1s 7ms/step - loss: 0.2209 - accuracy: 0.9203 - val_loss: 0.1677 - val_accuracy: 0.9433\n",
      "Epoch 47/50\n",
      "100/100 [==============================] - 1s 8ms/step - loss: 0.1932 - accuracy: 0.9287 - val_loss: 0.1639 - val_accuracy: 0.9467\n",
      "Epoch 48/50\n",
      "100/100 [==============================] - 1s 7ms/step - loss: 0.1784 - accuracy: 0.9394 - val_loss: 0.2818 - val_accuracy: 0.8933\n",
      "Epoch 49/50\n",
      "100/100 [==============================] - 1s 7ms/step - loss: 0.2193 - accuracy: 0.9272 - val_loss: 0.1869 - val_accuracy: 0.9367\n",
      "Epoch 50/50\n",
      "100/100 [==============================] - 1s 7ms/step - loss: 0.1496 - accuracy: 0.9475 - val_loss: 0.2679 - val_accuracy: 0.9233\n"
     ]
    }
   ],
   "source": [
    "epochs = 50\n",
    "history = model.fit(training_features,training_labels,\n",
    "                    epochs=epochs,\n",
    "                    validation_data=(validating_features,validating_labels), callbacks=[model_checkpoint_callback])"
   ]
  },
  {
   "cell_type": "code",
   "execution_count": 130,
   "id": "639cec95-dd25-4e53-89b3-4689ed7aef9b",
   "metadata": {},
   "outputs": [
    {
     "data": {
      "image/png": "[encoded data removed]",
      "text/plain": [
       "<Figure size 576x576 with 2 Axes>"
      ]
     },
     "metadata": {
      "needs_background": "light"
     },
     "output_type": "display_data"
    }
   ],
   "source": [
    "acc = history.history['accuracy']\n",
    "val_acc = history.history['val_accuracy']\n",
    "\n",
    "loss = history.history['loss']\n",
    "val_loss = history.history['val_loss']\n",
    "\n",
    "epochs_range = range(epochs)\n",
    "\n",
    "plt.figure(figsize=(8, 8))\n",
    "plt.subplot(1, 2, 1)\n",
    "plt.plot(epochs_range, acc, label='Training Accuracy')\n",
    "plt.plot(epochs_range, val_acc, label='Validation Accuracy')\n",
    "plt.legend(loc='lower right')\n",
    "plt.title('Training and Validation Accuracy')\n",
    "\n",
    "plt.subplot(1, 2, 2)\n",
    "plt.plot(epochs_range, loss, label='Training Loss')\n",
    "plt.plot(epochs_range, val_loss, label='Validation Loss')\n",
    "plt.legend(loc='upper right')\n",
    "plt.title('Training and Validation Loss')\n",
    "plt.show()"
   ]
  },
  {
   "cell_type": "code",
   "execution_count": 129,
   "id": "998ebd8c-e5c5-4b5f-b891-2c5f0c43d49d",
   "metadata": {},
   "outputs": [
    {
     "name": "stdout",
     "output_type": "stream",
     "text": [
      "21/21 [==============================] - 0s 4ms/step - loss: 0.2259 - accuracy: 0.9327\n",
      "test loss, test acc: [0.2258996218442917, 0.9327354431152344]\n",
      "1/1 [==============================] - 0s 160ms/step\n",
      "\n",
      "Rzeczywiste wartości:  [4 4 1 1 2 2 2 1 3 2]\n",
      "Przewidziane wartości: [4 4 1 1 2 2 2 1 3 2]\n"
     ]
    }
   ],
   "source": [
    "model.load_weights(checkpoint_filepath)\n",
    "results = model.evaluate(testing_features, testing_labels)\n",
    "print(\"test loss, test acc:\", results)\n",
    "np.set_printoptions(suppress=True)\n",
    "\n",
    "# muszlowy - 0\n",
    "# gothic - 1\n",
    "# york - 2\n",
    "# light - 3\n",
    "# barwy_jesieni - 4\n",
    "\n",
    "predictions = model.predict(testing_features[10:20])\n",
    "\n",
    "print(\"\\nRzeczywiste wartości: \",testing_labels[10:20].astype(\"int32\"))\n",
    "print(\"Przewidziane wartości:\",np.argmax(predictions, axis=1))"
   ]
  },
  {
   "cell_type": "code",
   "execution_count": 110,
   "id": "86dbf301-ec67-4add-8caa-bd7013851c5b",
   "metadata": {},
   "outputs": [
    {
     "name": "stdout",
     "output_type": "stream",
     "text": [
      "INFO:tensorflow:Assets written to: bruk_deep_learning_4/assets\n"
     ]
    }
   ],
   "source": [
    "model.save('bruk_deep_learning_4')"
   ]
  },
  {
   "cell_type": "code",
   "execution_count": null,
   "id": "6936c77b-c6ea-4165-9445-9fb77342f19f",
   "metadata": {},
   "outputs": [],
   "source": []
  }
 ],
 "metadata": {
  "kernelspec": {
   "display_name": "Python 3 (ipykernel)",
   "language": "python",
   "name": "python3"
  },
  "language_info": {
   "codemirror_mode": {
    "name": "ipython",
    "version": 3
   },
   "file_extension": ".py",
   "mimetype": "text/x-python",
   "name": "python",
   "nbconvert_exporter": "python",
   "pygments_lexer": "ipython3",
   "version": "3.8.10"
  }
 },
 "nbformat": 4,
 "nbformat_minor": 5
}
